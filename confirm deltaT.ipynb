{
 "cells": [
  {
   "cell_type": "markdown",
   "metadata": {},
   "source": [
    "# Confirm model for deltaT"
   ]
  },
  {
   "cell_type": "code",
   "execution_count": 1,
   "metadata": {},
   "outputs": [
    {
     "data": {
      "text/html": [
       "<style>.container { width:100% !important; }</style>"
      ],
      "text/plain": [
       "<IPython.core.display.HTML object>"
      ]
     },
     "metadata": {},
     "output_type": "display_data"
    }
   ],
   "source": [
    "from IPython.core.display import display, HTML\n",
    "display(HTML(\"<style>.container { width:100% !important; }</style>\"))\n",
    "\n",
    "import random\n",
    "import matplotlib.pyplot as plt\n",
    "import numpy as np\n",
    "import math\n",
    "import scipy.interpolate as interpolate"
   ]
  },
  {
   "cell_type": "markdown",
   "metadata": {},
   "source": [
    "## Physical Parameters"
   ]
  },
  {
   "cell_type": "code",
   "execution_count": 2,
   "metadata": {},
   "outputs": [],
   "source": [
    "# mach number Ma\n",
    "Ma = 0.025 ** (1/2)\n",
    "K = 1\n",
    "eta = 1"
   ]
  },
  {
   "cell_type": "markdown",
   "metadata": {},
   "source": [
    "## Functions of Ma"
   ]
  },
  {
   "cell_type": "code",
   "execution_count": 3,
   "metadata": {},
   "outputs": [],
   "source": [
    "meandeltaT = 2*np.pi\n",
    "\n",
    "# variables for generating F1\n",
    "stdF1 = eta * Ma**2 / (2 * np.pi)\n",
    "limitY1 = eta / (2 * np.pi)\n",
    "\n",
    "# variables for generating F2 and G1\n",
    "stdF2 = eta * Ma**2\n",
    "limitY2 = eta \n"
   ]
  },
  {
   "cell_type": "markdown",
   "metadata": {},
   "source": [
    "## Calculation parameters"
   ]
  },
  {
   "cell_type": "code",
   "execution_count": 4,
   "metadata": {},
   "outputs": [],
   "source": [
    "L = 1\n",
    "M = 10**3\n",
    "M_short = 200\n",
    "N = 1\n",
    "m = 10**2\n",
    "\n",
    "# dTau is the time step for the Runge Kutta Method\n",
    "def fundTau(J): \n",
    "    dTau= 2 * np.pi / J\n",
    "    return dTau\n",
    "\n",
    "# start with J = 10000 and divide by a factor of 2\n",
    "J_initial = 100\n",
    "J = J_initial\n",
    "\n",
    "Tr = K * meandeltaT"
   ]
  },
  {
   "cell_type": "markdown",
   "metadata": {},
   "source": [
    "## Calculation relations"
   ]
  },
  {
   "cell_type": "code",
   "execution_count": 5,
   "metadata": {},
   "outputs": [],
   "source": [
    " Tmax = 2 * np.pi * M\n",
    "# delt = N * deltaT"
   ]
  },
  {
   "cell_type": "markdown",
   "metadata": {},
   "source": [
    "## Initial Conditions"
   ]
  },
  {
   "cell_type": "code",
   "execution_count": 6,
   "metadata": {},
   "outputs": [],
   "source": [
    "# initial conditions A(0)=1/2*std_F2, dA/dT(0)=0\n",
    "initial_dAdT = 0\n",
    "initial_AT = 0"
   ]
  },
  {
   "cell_type": "code",
   "execution_count": 7,
   "metadata": {},
   "outputs": [],
   "source": [
    "n_bins = 200\n",
    "\n",
    "axis_font = {'size':'30'}\n",
    "title_font = {'size':'40'}"
   ]
  },
  {
   "cell_type": "markdown",
   "metadata": {},
   "source": [
    "## Functions"
   ]
  },
  {
   "cell_type": "code",
   "execution_count": 8,
   "metadata": {},
   "outputs": [],
   "source": [
    "# Source: https://docs.scipy.org/doc/numpy-1.15.0/reference/generated/numpy.random.rayleigh.html\n",
    "# deltaT is the length of each eddy turnover\n",
    "def fundeltaT(n_bins, M, dTau):\n",
    "    deltaT = []\n",
    "    # generate a rayleigh distribution from which to pick values for deltaT from\n",
    "    rayleigh = np.random.rayleigh(meandeltaT, M)                           \n",
    "    hist, bin_edges = np.histogram(rayleigh, bins=n_bins, density=True)\n",
    "    cum_values = np.zeros(bin_edges.shape)\n",
    "    cum_values[1:] = np.cumsum(hist*np.diff(bin_edges))\n",
    "    inv_cdf = interpolate.interp1d(cum_values, bin_edges)\n",
    "    for i in range(M):\n",
    "        r = np.random.rand(1)\n",
    "        # picks a random value from the rayleigh distribution\n",
    "        deltaTtemp = inv_cdf(r)\n",
    "        # rounds deltaTtemp up or down to be an interger multiple of dTau\n",
    "        if (deltaTtemp % dTau < 0.005):\n",
    "            deltaTtemp2 = deltaTtemp - (deltaTtemp % dTau)\n",
    "        else:\n",
    "            deltaTtemp2 = deltaTtemp + dTau - (deltaTtemp % dTau)\n",
    "        deltaT.append(deltaTtemp2)\n",
    "    # plots deltaT distribution  \n",
    "    deltaT = flatten(deltaT)\n",
    "    count, bins, ignored = plt.hist(deltaT, 80, density=True)\n",
    "    plt.title(\"Delta T\")\n",
    "    plt.xlabel(\"Delta T\")\n",
    "    plt.show()\n",
    "    return deltaT\n",
    "\n",
    "\n",
    "# Tturb adds up the delta T's\n",
    "def funTturb(deltaT):\n",
    "    Tturb=[0]\n",
    "    for i in range(len(deltaT)-1):\n",
    "        Tturb.append(deltaT[i]+Tturb[i])\n",
    "    time=Tturb\n",
    "    time.pop(-1)\n",
    "    return Tturb, time\n",
    "    \n",
    "# flattens nested arrays into one dimensional arrays\n",
    "def flatten(input):\n",
    "    new_list = []\n",
    "    for i in input:\n",
    "        for j in i:\n",
    "            new_list.append(j)\n",
    "    return new_list"
   ]
  },
  {
   "cell_type": "markdown",
   "metadata": {},
   "source": [
    "### Generate time steps"
   ]
  },
  {
   "cell_type": "code",
   "execution_count": 9,
   "metadata": {},
   "outputs": [
    {
     "data": {
      "image/png": "[encoded data removed]",
      "text/plain": [
       "<Figure size 432x288 with 1 Axes>"
      ]
     },
     "metadata": {
      "needs_background": "light"
     },
     "output_type": "display_data"
    }
   ],
   "source": [
    "dTau = fundTau(J)\n",
    "# where J is 10000 as defined above\n",
    "\n",
    "deltaT = fundeltaT(n_bins, M, dTau)\n",
    "\n",
    "Tturb, time = funTturb(deltaT)"
   ]
  },
  {
   "cell_type": "markdown",
   "metadata": {},
   "source": [
    "### Ensure deltaT is an integer multiple of dTau"
   ]
  },
  {
   "cell_type": "code",
   "execution_count": 14,
   "metadata": {},
   "outputs": [
    {
     "name": "stdout",
     "output_type": "stream",
     "text": [
      "DeltaT / dTau = \n",
      " \n",
      " [55.0, 86.0, 96.0, 34.0, 140.99999999999997, 182.0, 290.0, 213.0, 128.0, 121.0, 124.99999999999999, 70.99999999999999, 82.99999999999999, 75.0, 123.0, 144.0, 197.0, 208.0, 162.0, 177.0, 140.99999999999997, 80.99999999999999, 107.0, 112.0, 155.99999999999997, 238.0, 91.0, 45.0, 91.0, 166.0, 155.99999999999997, 160.99999999999997, 99.99999999999999, 64.0, 323.0, 145.0, 94.99999999999999, 42.0, 118.0, 168.0, 7.0, 254.0, 235.0, 89.0, 77.99999999999999, 114.0, 46.00000000000001, 82.0, 86.0, 159.0, 167.0, 183.0, 89.0, 155.0, 65.99999999999999, 104.0, 56.0, 121.0, 94.0, 153.0, 139.0, 179.0, 124.0, 183.0, 129.0, 164.0, 94.99999999999999, 167.0, 56.0, 118.0, 162.0, 199.0, 183.0, 84.0, 91.0, 212.0, 28.0, 255.0, 87.0, 87.0, 145.99999999999997, 69.0, 130.0, 214.0, 176.0, 70.99999999999999, 204.0, 128.0, 121.0, 51.00000000000001, 56.0, 80.99999999999999, 116.0, 89.0, 174.0, 114.99999999999999, 95.0, 126.0, 62.00000000000001, 75.0, 253.0, 72.99999999999999, 209.99999999999997, 155.99999999999997, 179.0, 91.0, 150.0, 40.0, 97.0, 232.0, 28.0, 94.99999999999999, 143.0, 61.0, 79.0, 62.00000000000001, 52.0, 142.0, 65.0, 74.0, 135.0, 207.0, 142.0, 101.0, 99.99999999999999, 70.99999999999999, 99.99999999999999, 80.0, 69.0, 101.0, 149.0, 189.99999999999997, 128.0, 164.99999999999997, 102.0, 87.0, 80.99999999999999, 84.99999999999999, 51.00000000000001, 64.0, 64.0, 167.0, 108.0, 80.99999999999999, 87.99999999999999, 209.99999999999997, 183.0, 124.0, 99.0, 52.0, 194.99999999999997, 48.0, 97.0, 206.0, 199.0, 89.99999999999999, 77.99999999999999, 40.0, 87.0, 290.0, 65.99999999999999, 96.0, 121.0, 96.0, 193.0, 101.0, 62.0, 25.0, 189.0, 213.0, 177.0, 53.0, 163.0, 61.0, 193.0, 126.0, 70.0, 46.00000000000001, 116.99999999999999, 116.0, 193.0, 118.0, 119.99999999999999, 67.0, 253.0, 113.0, 231.0, 25.0, 29.000000000000004, 20.0, 69.0, 114.99999999999999, 128.0, 31.000000000000004, 113.0, 225.0, 114.99999999999999, 166.0, 176.0, 87.0, 174.0, 179.99999999999997, 33.0, 198.0, 86.0, 75.99999999999999, 82.0, 101.0, 138.0, 33.0, 75.0, 92.99999999999999, 176.0, 112.0, 228.99999999999997, 134.0, 135.99999999999997, 89.0, 59.0, 126.99999999999999, 107.99999999999999, 107.0, 181.0, 17.0, 202.0, 216.0, 176.0, 65.99999999999999, 51.00000000000001, 102.0, 97.0, 123.0, 145.99999999999997, 70.99999999999999, 47.0, 116.99999999999999, 230.0, 130.99999999999997, 168.0, 84.99999999999999, 124.99999999999999, 154.0, 102.99999999999999, 126.99999999999999, 155.0, 194.0, 56.0, 45.0, 86.0, 84.0, 5.999999999999999, 46.00000000000001, 184.0, 128.0, 82.0, 123.0, 245.0, 132.0, 99.0, 107.0, 116.0, 119.0, 214.99999999999997, 70.0, 33.0, 81.0, 26.000000000000004, 80.0, 127.0, 77.0, 63.0, 179.99999999999997, 140.99999999999997, 124.0, 132.0, 80.0, 171.0, 86.0, 94.99999999999999, 143.0, 176.0, 72.99999999999999, 92.0, 209.0, 163.0, 80.99999999999999, 64.0, 116.99999999999999, 64.0, 235.0, 167.0, 70.99999999999999, 80.0, 102.99999999999999, 130.99999999999997, 150.0, 245.0, 75.99999999999999, 154.0, 130.99999999999997, 41.00000000000001, 74.0, 45.0, 147.0, 106.0, 94.99999999999999, 227.0, 103.0, 87.0, 232.0, 139.0, 62.00000000000001, 80.0, 102.0, 121.99999999999999, 84.0, 92.0, 219.0, 124.0, 96.0, 69.0, 324.0, 216.0, 60.0, 135.0, 84.99999999999999, 56.0, 243.99999999999997, 114.0, 21.0, 130.99999999999997, 152.0, 96.0, 96.0, 154.0, 327.0, 226.0, 150.99999999999997, 84.0, 84.99999999999999, 118.0, 65.0, 56.0, 178.0, 77.99999999999999, 226.0, 17.0, 147.0, 199.99999999999997, 114.99999999999999, 70.0, 89.99999999999999, 31.000000000000004, 157.0, 149.0, 147.0, 238.0, 91.0, 57.0, 55.0, 166.0, 162.0, 169.99999999999997, 196.0, 92.0, 53.0, 128.0, 184.0, 119.0, 194.99999999999997, 112.0, 132.0, 109.0, 102.99999999999999, 142.0, 140.99999999999997, 214.99999999999997, 99.99999999999999, 89.0, 107.0, 150.0, 193.0, 164.0, 94.99999999999999, 119.0, 238.99999999999997, 197.0, 43.0, 107.0, 84.99999999999999, 94.99999999999999, 219.99999999999997, 119.99999999999999, 82.99999999999999, 267.0, 169.99999999999997, 138.0, 59.0, 123.0, 106.0, 155.0, 130.99999999999997, 113.0, 162.0, 75.0, 223.0, 94.99999999999999, 252.0, 217.0, 169.99999999999997, 8.0, 123.0, 142.0, 37.0, 89.0, 172.0, 84.0, 104.0, 216.0, 227.0, 142.0, 84.0, 164.0, 152.0, 59.0, 145.99999999999997, 103.0, 128.0, 172.0, 58.0, 130.0, 49.0, 135.0, 289.0, 63.0, 87.99999999999999, 177.0, 259.0, 251.0, 289.0, 107.99999999999999, 186.0, 152.0, 204.99999999999997, 84.99999999999999, 155.0, 38.0, 187.0, 64.0, 126.99999999999999, 140.99999999999997, 132.0, 96.0, 62.00000000000001, 97.99999999999999, 72.0, 123.0, 134.0, 123.0, 107.99999999999999, 87.0, 150.0, 40.0, 84.99999999999999, 77.0, 113.0, 154.0, 24.0, 84.99999999999999, 107.0, 194.0, 31.0, 237.0, 97.99999999999999, 159.0, 87.0, 173.0, 55.0, 174.0, 111.0, 188.0, 105.0, 56.0, 70.99999999999999, 75.0, 168.0, 162.0, 153.0, 150.99999999999997, 54.0, 403.0, 129.0, 143.0, 191.0, 290.0, 121.99999999999999, 123.0, 29.000000000000004, 253.99999999999997, 55.0, 138.0, 51.00000000000001, 155.0, 189.99999999999997, 80.0, 29.000000000000004, 148.0, 114.0, 121.0, 49.0, 101.0, 37.0, 65.99999999999999, 134.0, 111.0, 232.0, 87.0, 127.0, 34.0, 60.0, 35.00000000000001, 153.0, 41.00000000000001, 197.0, 163.0, 104.99999999999999, 211.0, 51.00000000000001, 129.0, 258.0, 150.0, 203.0, 182.0, 87.0, 132.0, 129.0, 102.99999999999999, 55.0, 71.0, 193.0, 182.0, 147.0, 164.99999999999997, 86.0, 102.0, 112.0, 39.0, 70.0, 152.0, 150.99999999999997, 285.0, 274.0, 189.99999999999997, 298.0, 144.0, 169.0, 114.99999999999999, 63.0, 32.0, 118.0, 9.0, 53.0, 33.0, 49.0, 75.0, 64.0, 253.99999999999997, 206.0, 20.0, 157.0, 225.0, 227.0, 130.0, 89.99999999999999, 145.0, 80.0, 184.99999999999997, 188.0, 123.0, 48.0, 209.99999999999997, 130.99999999999997, 81.0, 46.00000000000001, 187.0, 214.0, 36.0, 216.0, 216.0, 128.0, 259.0, 77.99999999999999, 181.0, 129.0, 233.0, 28.0, 213.0, 34.0, 217.0, 164.0, 179.99999999999997, 116.0, 114.0, 167.0, 129.0, 149.0, 109.0, 94.0, 189.99999999999997, 65.0, 130.99999999999997, 153.0, 58.0, 178.0, 109.0, 150.0, 222.0, 58.0, 87.0, 104.0, 89.99999999999999, 145.99999999999997, 129.0, 289.0, 65.0, 82.99999999999999, 223.0, 37.0, 118.0, 285.0, 150.99999999999997, 214.0, 24.0, 201.0, 150.99999999999997, 104.99999999999999, 201.0, 104.0, 135.99999999999997, 140.0, 75.99999999999999, 111.0, 79.0, 51.00000000000001, 106.0, 147.0, 225.0, 70.0, 155.99999999999997, 72.0, 75.0, 25.0, 123.0, 35.00000000000001, 9.0, 163.0, 21.0, 94.0, 124.0, 57.0, 233.99999999999997, 128.0, 163.0, 107.0, 75.0, 145.99999999999997, 57.0, 67.99999999999999, 224.0, 82.0, 130.99999999999997, 97.99999999999999, 339.99999999999994, 106.0, 197.0, 56.0, 126.0, 171.0, 72.0, 75.0, 44.0, 251.0, 188.0, 251.0, 169.99999999999997, 67.99999999999999, 92.99999999999999, 47.0, 25.0, 87.99999999999999, 130.0, 87.0, 64.0, 112.0, 33.0, 53.0, 257.0, 65.99999999999999, 164.0, 92.0, 89.0, 77.0, 164.99999999999997, 65.99999999999999, 191.0, 104.0, 155.99999999999997, 87.0, 160.0, 191.0, 107.0, 216.0, 85.0, 140.0, 82.0, 75.0, 130.99999999999997, 194.0, 61.0, 57.0, 199.0, 94.0, 138.0, 104.0, 112.0, 209.99999999999997, 160.99999999999997, 129.0, 144.0, 290.0, 204.99999999999997, 17.0, 41.00000000000001, 143.0, 184.0, 80.0, 223.0, 121.0, 77.99999999999999, 84.99999999999999, 69.0, 89.0, 97.99999999999999, 169.0, 72.0, 123.0, 86.0, 193.0, 192.0, 238.99999999999997, 163.0, 212.0, 94.0, 80.99999999999999, 118.0, 147.0, 130.99999999999997, 104.0, 63.0, 102.99999999999999, 232.0, 109.99999999999999, 149.0, 70.99999999999999, 127.0, 153.0, 238.99999999999997, 126.0, 111.0, 45.0, 84.0, 84.0, 62.00000000000001, 129.0, 157.0, 99.0, 67.0, 36.0, 62.00000000000001, 180.0, 135.0, 29.000000000000004, 150.0, 77.99999999999999, 121.0, 77.0, 38.0, 173.0, 211.0, 24.0, 87.99999999999999, 202.0, 54.0, 177.0, 183.0, 171.0, 70.0, 70.0, 135.0, 225.0, 75.0, 82.99999999999999, 41.00000000000001, 214.0, 172.0, 101.0, 64.0, 319.0, 127.0, 152.0, 35.00000000000001, 65.0, 199.0, 187.0, 155.0, 92.0, 226.0, 118.0, 104.0, 276.0, 176.0, 155.99999999999997, 69.0, 169.99999999999997, 92.0, 102.0, 55.0, 145.99999999999997, 233.0, 203.0, 28.0, 37.0, 233.0, 104.0, 179.99999999999997, 29.000000000000004, 109.99999999999999, 79.0, 64.0, 198.0, 42.0, 70.99999999999999, 141.0, 94.99999999999999, 33.0, 164.0, 274.0, 35.00000000000001, 189.0, 118.0, 260.0, 54.0, 150.0, 126.0, 64.0, 3.0, 223.0, 99.99999999999999, 218.0, 84.99999999999999, 101.0, 82.99999999999999, 52.0, 92.0, 238.99999999999997, 194.99999999999997, 121.99999999999999, 101.0, 65.99999999999999, 52.0, 107.0, 111.0, 27.0, 253.99999999999997, 152.0, 26.000000000000004, 163.0, 69.0, 65.99999999999999, 80.0, 114.0, 62.00000000000001, 233.0, 104.0, 130.99999999999997, 280.99999999999994, 47.0, 183.0, 99.99999999999999, 102.99999999999999, 163.0, 104.0, 193.0, 67.99999999999999, 142.0, 47.0, 318.0, 32.0, 109.99999999999999, 22.0, 204.99999999999997, 135.99999999999997, 56.0, 252.0, 50.0, 113.0, 137.0, 139.0, 70.99999999999999, 135.99999999999997, 59.0, 92.99999999999999, 77.99999999999999, 203.0, 150.99999999999997, 86.0, 64.0, 109.0, 82.0, 24.0, 54.0, 70.0, 86.0, 167.0, 72.99999999999999, 83.0, 55.0, 124.0, 130.99999999999997, 130.99999999999997, 77.0, 150.0, 192.0, 129.0, 84.0, 119.99999999999999, 75.99999999999999, 322.0, 89.99999999999999, 160.99999999999997, 92.99999999999999, 19.0, 111.0, 107.99999999999999, 56.0, 30.0, 240.0, 214.0, 3.0, 147.0, 49.0, 140.0, 57.0, 106.0, 270.0, 214.99999999999997, 152.0, 119.99999999999999, 102.99999999999999, 253.0, 97.0, 155.0, 122.0, 278.0, 236.0, 70.99999999999999, 114.0, 191.0, 158.0, 144.0, 133.0, 26.000000000000004, 280.99999999999994, 32.0, 75.0, 214.0, 42.0, 58.0, 209.0, 174.0, 144.0, 48.0, 172.0, 123.0, 67.0, 102.0, 68.0, 140.99999999999997, 89.99999999999999, 28.0, 96.0, 89.99999999999999, 160.0, 89.99999999999999, 128.0, 77.0, 133.0, 276.0, 87.99999999999999, 142.0]\n"
     ]
    }
   ],
   "source": [
    "multiple = []\n",
    "for i in range(len(deltaT)):\n",
    "    multiple.append(deltaT[i]/dTau)\n",
    "\n",
    "print(\"DeltaT / dTau = \\n \\n\", multiple)"
   ]
  },
  {
   "cell_type": "code",
   "execution_count": null,
   "metadata": {},
   "outputs": [],
   "source": []
  }
 ],
 "metadata": {
  "kernelspec": {
   "display_name": "Python 3",
   "language": "python",
   "name": "python3"
  },
  "language_info": {
   "codemirror_mode": {
    "name": "ipython",
    "version": 3
   },
   "file_extension": ".py",
   "mimetype": "text/x-python",
   "name": "python",
   "nbconvert_exporter": "python",
   "pygments_lexer": "ipython3",
   "version": "3.7.1"
  }
 },
 "nbformat": 4,
 "nbformat_minor": 2
}
