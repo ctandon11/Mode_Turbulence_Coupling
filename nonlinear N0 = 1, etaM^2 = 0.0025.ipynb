{
 "cells": [
  {
   "cell_type": "markdown",
   "metadata": {},
   "source": [
    "# Mode-Turbulence Coupling: Numerical Analysis\n",
    "# M = 10^4, < Delta_tau > = pi, K = 1, eta M^2 = 0.0025\n",
    "# compare nonlinear and linear runs\n",
    "# N0 = 1"
   ]
  },
  {
   "cell_type": "code",
   "execution_count": 1,
   "metadata": {},
   "outputs": [
    {
     "data": {
      "text/html": [
       "<style>.container { width:100% !important; }</style>"
      ],
      "text/plain": [
       "<IPython.core.display.HTML object>"
      ]
     },
     "metadata": {},
     "output_type": "display_data"
    }
   ],
   "source": [
    "from IPython.core.display import display, HTML\n",
    "display(HTML(\"<style>.container { width:100% !important; }</style>\"))\n",
    "\n",
    "import random\n",
    "import matplotlib.pyplot as plt\n",
    "import numpy as np\n",
    "import math\n",
    "import scipy.interpolate as interpolate\n",
    "\n",
    "n_bins = 200\n",
    "\n",
    "axis_font = {'size':'30'}\n",
    "title_font = {'size':'40'}\n",
    "\n",
    "# flattens nested arrays into one dimensional arrays\n",
    "def flatten(input):\n",
    "    new_list = []\n",
    "    for i in input:\n",
    "        for j in i:\n",
    "            new_list.append(j)\n",
    "    return new_list\n",
    "\n",
    "# root mean square\n",
    "def FunRMS(B):\n",
    "    sqr = [a**2 for a in B]\n",
    "    avg = sum(sqr)/len(sqr)\n",
    "    return avg**(1/2)\n",
    "\n",
    "def FunplotAmp(amptime, Amp):\n",
    "    plt.figure(figsize=(40,10))\n",
    "    plt.plot(amptime, Amp, 'k')\n",
    "    plt.title('Amplitude of the Mode', **title_font)\n",
    "    plt.xticks(fontsize=30)\n",
    "    plt.yticks(fontsize=30)\n",
    "    plt.xlabel(r'$\\tau$', **axis_font)\n",
    "    plt.ylabel('Amplitude', **axis_font)\n",
    "    plt.tight_layout()\n",
    "    plt.show()"
   ]
  },
  {
   "cell_type": "markdown",
   "metadata": {},
   "source": [
    "## Physical Parameters"
   ]
  },
  {
   "cell_type": "code",
   "execution_count": 2,
   "metadata": {},
   "outputs": [],
   "source": [
    "# eta * Ma ^2 = 0.0025\n",
    "Ma = 0.0025 ** (1/2)\n",
    "K = 1\n",
    "eta = 1"
   ]
  },
  {
   "cell_type": "markdown",
   "metadata": {},
   "source": [
    "## Functions of Ma"
   ]
  },
  {
   "cell_type": "code",
   "execution_count": 3,
   "metadata": {},
   "outputs": [],
   "source": [
    "meandeltaT = np.pi\n",
    "\n",
    "# variables for generating F2, H, and G1\n",
    "stdF2 = eta * Ma**2\n",
    "limitY2 = eta "
   ]
  },
  {
   "cell_type": "markdown",
   "metadata": {},
   "source": [
    "## Calculation parameters"
   ]
  },
  {
   "cell_type": "code",
   "execution_count": 4,
   "metadata": {},
   "outputs": [],
   "source": [
    "L = 1\n",
    "M = 10**6\n",
    "M_short = 100\n",
    "N = 1\n",
    "m = 10**2\n",
    "\n",
    "J = 100\n",
    "dTau= 2 * np.pi / J\n",
    "\n",
    "Tr = K * meandeltaT\n",
    "\n",
    "Tmax = 2 * np.pi * M"
   ]
  },
  {
   "cell_type": "markdown",
   "metadata": {},
   "source": [
    "## Initial Conditions"
   ]
  },
  {
   "cell_type": "code",
   "execution_count": 5,
   "metadata": {},
   "outputs": [],
   "source": [
    "initial_AT = 0\n",
    "initial_dAdT = 0"
   ]
  },
  {
   "cell_type": "markdown",
   "metadata": {},
   "source": [
    "### Functions"
   ]
  },
  {
   "cell_type": "code",
   "execution_count": 6,
   "metadata": {},
   "outputs": [],
   "source": [
    "def fundeltaT(n_bins, M, dTau):\n",
    "    deltaT = []\n",
    "    \n",
    "    # generate a rayleigh distribution from which to pick values for deltaT from\n",
    "    rayleigh = np.random.rayleigh(meandeltaT, M)                           \n",
    "    hist, bin_edges = np.histogram(rayleigh, bins=n_bins, density=True)\n",
    "    cum_values = np.zeros(bin_edges.shape)\n",
    "    cum_values[1:] = np.cumsum(hist*np.diff(bin_edges))\n",
    "    inv_cdf = interpolate.interp1d(cum_values, bin_edges)\n",
    "    \n",
    "    for i in range(M):\n",
    "        # picks a random value from the rayleigh distribution\n",
    "        r = np.random.rand(1)\n",
    "        deltaTtemp = inv_cdf(r)\n",
    "        \n",
    "        # rounds deltaTtemp up or down to be an interger multiple of dTau\n",
    "        if (deltaTtemp % dTau < 0.005):\n",
    "            deltaTtemp2 = deltaTtemp - (deltaTtemp % dTau)\n",
    "        else:\n",
    "            deltaTtemp2 = deltaTtemp + dTau - (deltaTtemp % dTau)\n",
    "            \n",
    "        deltaT.append(deltaTtemp2[0])\n",
    "        \n",
    "    return deltaT"
   ]
  },
  {
   "cell_type": "markdown",
   "metadata": {},
   "source": [
    "### F_k Function"
   ]
  },
  {
   "cell_type": "code",
   "execution_count": 7,
   "metadata": {},
   "outputs": [],
   "source": [
    "# generating F2, G1\n",
    "def funF_k(std, limit, deltaT):\n",
    "    F_k =[]\n",
    "    y1 = 0\n",
    "    for i in range(len(deltaT) - 1):\n",
    "        \n",
    "        # Tn is halfway through the eddy\n",
    "        Tn = ((deltaT[i] + deltaT[i+1]) / 2)\n",
    "        \n",
    "        stdevt = ((1 - math.exp(-2 * Tn / Tr)) * std ** 2) ** (1/2)\n",
    "        meant = math.exp(-Tn / Tr) * y1\n",
    "        \n",
    "        # y1 is chosen from markov conditional probability function\n",
    "        # put limit on y1\n",
    "            # set y1 > limitY1 so that while loop only ends when y1 < limitY1\n",
    "        y1 = limit + 1\n",
    "        while abs(y1) > limit:\n",
    "            y1 = np.random.normal(meant, stdevt, 2)[0]\n",
    "        \n",
    "        # loops through each eddy\n",
    "        for j in np.linspace(0, deltaT[i], int(deltaT[i] / dTau)):\n",
    "            x = j / deltaT[i]\n",
    "            if j == deltaT[i]:\n",
    "                pass\n",
    "            else:\n",
    "                F_k.append(16 * y1 * x**2 * (1 - x)**2)\n",
    "        \n",
    "    return F_k\n",
    "\n",
    "# generating F1\n",
    "def fundHdt(std, limit, deltaT):\n",
    "    dHdt =[]\n",
    "    y1 = 0\n",
    "    for i in range(len(deltaT) - 1):\n",
    "        \n",
    "        # Tn is halfway through the eddy\n",
    "        Tn = ((deltaT[i] + deltaT[i+1]) / 2)\n",
    "        \n",
    "        stdevt = ((1 - math.exp(-2 * Tn / Tr)) * std ** 2) ** (1/2)\n",
    "        meant = math.exp(-Tn / Tr) * y1\n",
    "        \n",
    "        # y1 is chosen from markov conditional probability function\n",
    "        # put limit on y1\n",
    "            # set y1 > limitY1 so that while loop only ends when y1 < limitY1\n",
    "        y1 = limit + 1\n",
    "        while abs(y1) > limit:\n",
    "            y1 = np.random.normal(meant, stdevt, 2)[0]\n",
    "        \n",
    "        # loops through each eddy\n",
    "        for j in np.linspace(0, deltaT[i], int(deltaT[i] / dTau)):\n",
    "            x = j / deltaT[i]\n",
    "            if j == deltaT[i]:\n",
    "                pass\n",
    "            else:\n",
    "                # calculated the derivative of H = 16 * y1 * x**2 * (1 - x)**2\n",
    "                dHdt.append(1 / deltaT[i] * 32 * y1 * x * (2 * x**2 - 3 * x + 1))\n",
    "        \n",
    "    return dHdt\n",
    "\n",
    "def funAmp(F1, F2, G1, dTau, A, dAdt):\n",
    "    # huen's method\n",
    "    # u = dA/dt\n",
    "    \n",
    "    D = 0\n",
    "    Amp = [A]\n",
    "    t = 0.0\n",
    "    amptime = [t]\n",
    "    u = dAdt\n",
    "    \n",
    "    for i in range(0, int(len(F1)) -2):\n",
    "        m1 = u\n",
    "        k1 = -(F1[i] * u ) - ( 1 + G1[i] ) * A + F2[i]\n",
    "        m2 = u + dTau * k1\n",
    "        A_2 = A + dTau * m1\n",
    "        u_2 = m2\n",
    "        k2 = -(F1[i + 1] * u_2 ) - ( 1 + G1[i + 1] ) * A_2 + F2[i + 1]\n",
    "        m2 = u + dTau * k2\n",
    "        t = t + dTau\n",
    "        A = A + (dTau / 2) * (m1 + m2)\n",
    "        u = u + (dTau / 2) * (k1 + k2)\n",
    "        Amp.append(A)\n",
    "        amptime.append(t)\n",
    "\n",
    "    Amp = Amp[:-1]\n",
    "    amptime = amptime[:-1]\n",
    "    \n",
    "    return Amp, amptime\n",
    "\n",
    "def funNLAmp(F1, F2, G1, dTau, A, dAdt, N0, N1):\n",
    "    # huen's method\n",
    "    # u = dA/dt\n",
    "    \n",
    "    Amp = [A]\n",
    "    t = 0.0\n",
    "    amptime = [t]\n",
    "    u = dAdt\n",
    "    \n",
    "    for i in range(0, int(len(F1))-2):\n",
    "        m1 = u\n",
    "        k1 = - (F1[i] * u ) - ( 1 + G1[i] ) * A  - (N0 + N1[i]) * A**2 + F2[i]\n",
    "        m2 = u + dTau * k1\n",
    "        A_2 = A + dTau * m1\n",
    "        u_2 = m2\n",
    "        k2 = -(F1[i + 1] * u_2 ) - ( 1 + G1[i + 1] ) * A_2 - (N0 + N1[i+1]) * A_2**2 + F2[i + 1]\n",
    "        m2 = u + dTau * k2\n",
    "        t = t + dTau\n",
    "        A = A + (dTau / 2) * (m1 + m2)\n",
    "        u = u + (dTau / 2) * (k1 + k2)\n",
    "        Amp.append(A)\n",
    "        amptime.append(t)\n",
    "        \n",
    "\n",
    "    Amp = Amp[:-1]\n",
    "    amptime = amptime[:-1]\n",
    "    \n",
    "    return Amp, amptime"
   ]
  },
  {
   "cell_type": "markdown",
   "metadata": {},
   "source": [
    "## deltaT, F1, F2, G1 for both linear and nonlinear runs"
   ]
  },
  {
   "cell_type": "code",
   "execution_count": 9,
   "metadata": {},
   "outputs": [],
   "source": [
    "deltaT = fundeltaT(n_bins, M, dTau)\n",
    "\n",
    "# generate F1, F2, G1\n",
    "F1 = fundHdt(stdF2, limitY2, deltaT)\n",
    "F2 = funF_k(stdF2, limitY2, deltaT)\n",
    "G1 = funF_k(stdF2, limitY2, deltaT)"
   ]
  },
  {
   "cell_type": "markdown",
   "metadata": {},
   "source": [
    "# Linear run"
   ]
  },
  {
   "cell_type": "code",
   "execution_count": 10,
   "metadata": {},
   "outputs": [],
   "source": [
    "Amp, amptime = funAmp(F1, F2, G1, dTau, initial_AT, initial_dAdT)"
   ]
  },
  {
   "cell_type": "code",
   "execution_count": 11,
   "metadata": {},
   "outputs": [
    {
     "name": "stdout",
     "output_type": "stream",
     "text": [
      "<A^2> = 0.018327856978184277\n"
     ]
    }
   ],
   "source": [
    "Arms = FunRMS(Amp)\n",
    "print(\"<A^2> =\", Arms ** 2 )"
   ]
  },
  {
   "cell_type": "markdown",
   "metadata": {},
   "source": [
    "# Nonlinear run"
   ]
  },
  {
   "cell_type": "code",
   "execution_count": 13,
   "metadata": {},
   "outputs": [],
   "source": [
    "N1 = funF_k(stdF2, limitY2, deltaT)"
   ]
  },
  {
   "cell_type": "code",
   "execution_count": 14,
   "metadata": {},
   "outputs": [
    {
     "name": "stderr",
     "output_type": "stream",
     "text": [
      "/Users/celiatandon/anaconda3/lib/python3.7/site-packages/ipykernel_launcher.py:100: RuntimeWarning: overflow encountered in double_scalars\n",
      "/Users/celiatandon/anaconda3/lib/python3.7/site-packages/ipykernel_launcher.py:104: RuntimeWarning: overflow encountered in double_scalars\n",
      "/Users/celiatandon/anaconda3/lib/python3.7/site-packages/ipykernel_launcher.py:100: RuntimeWarning: invalid value encountered in double_scalars\n"
     ]
    }
   ],
   "source": [
    "N0 = 1\n",
    "\n",
    "Amp, amptime = funNLAmp(F1, F2, G1, dTau, initial_AT, initial_dAdT, N0, N1)"
   ]
  },
  {
   "cell_type": "code",
   "execution_count": 15,
   "metadata": {},
   "outputs": [
    {
     "data": {
      "image/png": "[encoded data removed]",
      "text/plain": [
       "<Figure size 2880x720 with 1 Axes>"
      ]
     },
     "metadata": {
      "needs_background": "light"
     },
     "output_type": "display_data"
    }
   ],
   "source": [
    "FunplotAmp(amptime, Amp)"
   ]
  },
  {
   "cell_type": "code",
   "execution_count": null,
   "metadata": {},
   "outputs": [],
   "source": []
  }
 ],
 "metadata": {
  "kernelspec": {
   "display_name": "Python 3",
   "language": "python",
   "name": "python3"
  },
  "language_info": {
   "codemirror_mode": {
    "name": "ipython",
    "version": 3
   },
   "file_extension": ".py",
   "mimetype": "text/x-python",
   "name": "python",
   "nbconvert_exporter": "python",
   "pygments_lexer": "ipython3",
   "version": "3.7.1"
  }
 },
 "nbformat": 4,
 "nbformat_minor": 2
}
